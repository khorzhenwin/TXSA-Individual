{
 "cells": [
  {
   "attachments": {},
   "cell_type": "markdown",
   "metadata": {},
   "source": [
    "### Khor Zhen Win - TP055619\n",
    "Individual Assignment"
   ]
  },
  {
   "attachments": {},
   "cell_type": "markdown",
   "metadata": {},
   "source": [
    "### Q1. Form Tokenization"
   ]
  },
  {
   "cell_type": "code",
   "execution_count": null,
   "metadata": {},
   "outputs": [],
   "source": [
    "# run this cell to install the required libraries\n",
    "%pip install pandas\n",
    "%pip install numpy\n",
    "%pip install nltk"
   ]
  },
  {
   "cell_type": "code",
   "execution_count": 1,
   "metadata": {},
   "outputs": [],
   "source": [
    "# import libraries\n",
    "import pandas as pd\n",
    "import numpy as np\n",
    "import nltk\n",
    "import re"
   ]
  },
  {
   "cell_type": "code",
   "execution_count": null,
   "metadata": {},
   "outputs": [],
   "source": [
    "# run this cell to install all NLTK data\n",
    "nltk.download('all')"
   ]
  },
  {
   "cell_type": "code",
   "execution_count": 4,
   "metadata": {},
   "outputs": [
    {
     "data": {
      "text/plain": [
       "'It is one thing to automatically detect that a particular word occurs in a text, and to display some words that appear in the same context. However, we can also determine the location of a word in the text: how many words from the beginning it appears. This positional information can be displayed using a dispersion plot. Each stripe represents an instance of a word, and each row represents the entire text.'"
      ]
     },
     "execution_count": 4,
     "metadata": {},
     "output_type": "execute_result"
    }
   ],
   "source": [
    "# import data from Data_1.txt where each line is a string\n",
    "with open('Data_1.txt') as f:\n",
    "    data1 = f.readlines()\n",
    "    \n",
    "# remove whitespace characters like `\\n` at the end of each line\n",
    "# this joins all the data into one paragraph of a single string\n",
    "data1 = [x.strip() for x in data1]\n",
    "data1 = ' '.join(data1)\n",
    "data1"
   ]
  },
  {
   "cell_type": "code",
   "execution_count": 6,
   "metadata": {},
   "outputs": [
    {
     "data": {
      "text/plain": [
       "'The big black dog barked at the white cat and chased away.'"
      ]
     },
     "execution_count": 6,
     "metadata": {},
     "output_type": "execute_result"
    }
   ],
   "source": [
    "# import data from Data_2.txt where each line is a string\n",
    "with open('Data_2.txt') as f:\n",
    "    data2 = f.readlines()\n",
    "    \n",
    "# remove whitespace characters like `\\n` at the end of each line\n",
    "data2 = [x.strip() for x in data2]\n",
    "data2 = ' '.join(data2)\n",
    "data2"
   ]
  },
  {
   "attachments": {},
   "cell_type": "markdown",
   "metadata": {},
   "source": [
    "- Sentence Segmentation"
   ]
  },
  {
   "cell_type": "code",
   "execution_count": 7,
   "metadata": {},
   "outputs": [
    {
     "name": "stdout",
     "output_type": "stream",
     "text": [
      "['It is one thing to automatically detect that a particular word occurs in a text, and to display some words that appear in the same context.', 'However, we can also determine the location of a word in the text: how many words from the beginning it appears.', 'This positional information can be displayed using a dispersion plot.', 'Each stripe represents an instance of a word, and each row represents the entire text.']\n",
      "\n",
      "Number of sentences:  4\n",
      "\n"
     ]
    }
   ],
   "source": [
    "sentences = nltk.sent_tokenize(data1, language='english')\n",
    "print(sentences)\n",
    "print()\n",
    "print(\"Number of sentences: \", len(sentences))\n",
    "print()"
   ]
  },
  {
   "cell_type": "code",
   "execution_count": 8,
   "metadata": {},
   "outputs": [
    {
     "name": "stdout",
     "output_type": "stream",
     "text": [
      "Sentence 1: It is one thing to automatically detect that a particular word occurs in a text, and to display some words that appear in the same context.\n",
      "\n",
      "Sentence 2: However, we can also determine the location of a word in the text: how many words from the beginning it appears.\n",
      "\n",
      "Sentence 3: This positional information can be displayed using a dispersion plot.\n",
      "\n",
      "Sentence 4: Each stripe represents an instance of a word, and each row represents the entire text.\n",
      "\n"
     ]
    }
   ],
   "source": [
    "for i in range(len(sentences)):\n",
    "    print(\"Sentence \" + str(i+1) + \": \" + sentences[i])\n",
    "    print()"
   ]
  },
  {
   "cell_type": "code",
   "execution_count": null,
   "metadata": {},
   "outputs": [],
   "source": []
  }
 ],
 "metadata": {
  "kernelspec": {
   "display_name": "base",
   "language": "python",
   "name": "python3"
  },
  "language_info": {
   "codemirror_mode": {
    "name": "ipython",
    "version": 3
   },
   "file_extension": ".py",
   "mimetype": "text/x-python",
   "name": "python",
   "nbconvert_exporter": "python",
   "pygments_lexer": "ipython3",
   "version": "3.9.12"
  },
  "orig_nbformat": 4,
  "vscode": {
   "interpreter": {
    "hash": "f1a4a2f3c51900e879c65470871c76860eabd5596e5067eeaa31aed8adcbad33"
   }
  }
 },
 "nbformat": 4,
 "nbformat_minor": 2
}
